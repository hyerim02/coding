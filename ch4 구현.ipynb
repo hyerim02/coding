{
 "cells": [
  {
   "cell_type": "markdown",
   "metadata": {},
   "source": [
    "# 1. 아이디어를 코드로 바꾸는 구현"
   ]
  },
  {
   "cell_type": "markdown",
   "metadata": {},
   "source": [
    "구현은 머릿속에 있는 알고리즘을 소스코드로 바꾸는 과정  \n",
    "어떤 문제를 풀든 간에 소스코드를 작성하는 과정은 필수이므로 구현 문제는 모든 범위의 코딩 테스트 문제 유형을 포함"
   ]
  },
  {
   "cell_type": "markdown",
   "metadata": {},
   "source": [
    "- 완전 탐색:모든 경우의 수를 주저 없이 다 계산하는 해결 방법  \n",
    "- 시물레이션: 문제에서 제시한 알고리즘을 한 단계씩 차례대로 직접 수행"
   ]
  },
  {
   "cell_type": "markdown",
   "metadata": {},
   "source": [
    "## 예제 4-1 상하좌우"
   ]
  },
  {
   "cell_type": "markdown",
   "metadata": {},
   "source": [
    "여행자 A는 $N \\times N$ 크기의 정사각형 공간 위에 서 있음  \n",
    "이 공간은 $1 \\times 1$ 크기로 나누어져 있음  \n",
    "가장 왼쪽 위는 (1,1) 가장 오른쪽 아래는 (N,N)  \n",
    "여행자 A는 상,하,좌,우로 이동 가능하며 시작은 (1,1)"
   ]
  },
  {
   "cell_type": "markdown",
   "metadata": {},
   "source": [
    "이동: 우-우-우-상-하-하  \n",
    "이때 공간을 벗어나면 무시  \n",
    "상: U, 하: D, 좌: L, 우: R"
   ]
  },
  {
   "cell_type": "markdown",
   "metadata": {},
   "source": [
    "- 입력 조건  \n",
    "첫째 줄에 공간의 크기를 나타내는 N(1<=N<=100)이 주어짐   \n",
    "둘째 줄에 여행자의 계획서 내용이 주어짐"
   ]
  },
  {
   "cell_type": "markdown",
   "metadata": {},
   "source": [
    "- 출력 조건  \n",
    "x,y를 공백으로 구분하여 출력"
   ]
  },
  {
   "cell_type": "code",
   "execution_count": 2,
   "metadata": {
    "ExecuteTime": {
     "end_time": "2022-11-09T17:30:03.106508Z",
     "start_time": "2022-11-09T17:30:01.526333Z"
    }
   },
   "outputs": [
    {
     "name": "stdout",
     "output_type": "stream",
     "text": [
      "5\n"
     ]
    }
   ],
   "source": [
    "n=int(input())"
   ]
  },
  {
   "cell_type": "code",
   "execution_count": 3,
   "metadata": {
    "ExecuteTime": {
     "end_time": "2022-11-09T17:30:07.496422Z",
     "start_time": "2022-11-09T17:30:07.491354Z"
    }
   },
   "outputs": [],
   "source": [
    "x,y=1,1"
   ]
  },
  {
   "cell_type": "code",
   "execution_count": 4,
   "metadata": {
    "ExecuteTime": {
     "end_time": "2022-11-09T17:30:14.683105Z",
     "start_time": "2022-11-09T17:30:08.074482Z"
    }
   },
   "outputs": [
    {
     "name": "stdout",
     "output_type": "stream",
     "text": [
      "R R R U D D\n"
     ]
    }
   ],
   "source": [
    "plans=input().split()"
   ]
  },
  {
   "cell_type": "code",
   "execution_count": 5,
   "metadata": {
    "ExecuteTime": {
     "end_time": "2022-11-09T17:30:15.476422Z",
     "start_time": "2022-11-09T17:30:15.460357Z"
    }
   },
   "outputs": [],
   "source": [
    "dx=[0,0,-1,1]\n",
    "dy=[-1,1,0,0]\n",
    "move=['L','R','U','D']"
   ]
  },
  {
   "cell_type": "code",
   "execution_count": 6,
   "metadata": {
    "ExecuteTime": {
     "end_time": "2022-11-09T17:30:16.009931Z",
     "start_time": "2022-11-09T17:30:15.997894Z"
    }
   },
   "outputs": [
    {
     "name": "stdout",
     "output_type": "stream",
     "text": [
      "3 4\n"
     ]
    }
   ],
   "source": [
    "for plan in plans:\n",
    "    for i in range(len(move)):\n",
    "        if plan==move[i]:\n",
    "            nx=x+dx[i]\n",
    "            ny=y+dy[i]\n",
    "    if nx<1 or ny<1 or nx>n or ny>n:\n",
    "        continue\n",
    "    x,y=nx,ny\n",
    "print(x,y)    "
   ]
  },
  {
   "cell_type": "markdown",
   "metadata": {},
   "source": [
    "## 예제 4-2 시각"
   ]
  },
  {
   "cell_type": "markdown",
   "metadata": {},
   "source": [
    "정수 N이 입력되면 00시00분00초부터 N시59분59초까지의 모든 시각 중에서 3이 하나라도 포함되는 경우의 수를 구하는 프로그램을 작성하시오"
   ]
  },
  {
   "cell_type": "markdown",
   "metadata": {},
   "source": [
    "- 입력 조건   \n",
    "\n",
    "첫째 줄에 정수 N이 입력(0<=N<=23)"
   ]
  },
  {
   "cell_type": "markdown",
   "metadata": {},
   "source": [
    "- 출력 조건  \n",
    "00시00분00초부터 N시59분59초까지의 모든 시각 중에서 3이 하나라도 포함되는 경우의 수를 출력"
   ]
  },
  {
   "cell_type": "code",
   "execution_count": 7,
   "metadata": {
    "ExecuteTime": {
     "end_time": "2022-11-09T17:30:23.835328Z",
     "start_time": "2022-11-09T17:30:22.733805Z"
    }
   },
   "outputs": [
    {
     "name": "stdout",
     "output_type": "stream",
     "text": [
      "5\n"
     ]
    }
   ],
   "source": [
    "n=int(input())"
   ]
  },
  {
   "cell_type": "code",
   "execution_count": 8,
   "metadata": {
    "ExecuteTime": {
     "end_time": "2022-11-09T17:30:24.503578Z",
     "start_time": "2022-11-09T17:30:24.486521Z"
    }
   },
   "outputs": [],
   "source": [
    "count=0"
   ]
  },
  {
   "cell_type": "code",
   "execution_count": 9,
   "metadata": {
    "ExecuteTime": {
     "end_time": "2022-11-09T17:30:25.095618Z",
     "start_time": "2022-11-09T17:30:25.063588Z"
    }
   },
   "outputs": [
    {
     "name": "stdout",
     "output_type": "stream",
     "text": [
      "11475\n"
     ]
    }
   ],
   "source": [
    "for i in range(n+1):\n",
    "    for j in range(60):\n",
    "        for k in range(60):\n",
    "            if '3' in str(i)+str(j)+str(k):\n",
    "                count +=1\n",
    "print(count)                "
   ]
  },
  {
   "cell_type": "markdown",
   "metadata": {},
   "source": [
    "# 2. 왕실의 나이트"
   ]
  },
  {
   "cell_type": "markdown",
   "metadata": {},
   "source": [
    "왕실 정원은 체스판처럼 $8 \\times 8$좌표 평면이다  \n",
    "왕실 정원의 특정한 한 칸에 나이트가 서 있다  \n",
    "나이트는 매우 충성스러운 신하로서 매일 무술을 연마한다  \n",
    "나이트는 말을 타고 있어서 L자로만 이동할 수 있으며 정원 밖으로는 이동할 수 없다  "
   ]
  },
  {
   "cell_type": "markdown",
   "metadata": {},
   "source": [
    "특정한 위치에서는 다음과 같이 이동가능  \n",
    "1. 수평으로 두 칸 이동한 뒤에 수직으로 한 칸 이동  \n",
    "2. 수직으로 두 칸 이동한 뒤에 수평으로 한 칸 이동"
   ]
  },
  {
   "cell_type": "markdown",
   "metadata": {},
   "source": [
    "나이트의 위치가 주어졌을 때 나이트가 이동할 수 있는 경우의 수를 출력하는 프로그램을 작성하시오"
   ]
  },
  {
   "cell_type": "markdown",
   "metadata": {},
   "source": [
    "- 입력 조건  \n",
    "\n",
    "나이트가 위치한 곳의 좌표를 나타내는 두 문자로 구성된 문자열이 입력된다  \n",
    "a1처럼 열과 행으로 이뤄진다"
   ]
  },
  {
   "cell_type": "markdown",
   "metadata": {},
   "source": [
    "- 출력 조건  \n",
    "나이트가 이동할 수 있는 경우의 수를 출력"
   ]
  },
  {
   "attachments": {
    "image.png": {
     "image/png": "[encoded data removed]"
    }
   },
   "cell_type": "markdown",
   "metadata": {},
   "source": [
    "![image.png](attachment:image.png)"
   ]
  },
  {
   "cell_type": "code",
   "execution_count": 10,
   "metadata": {
    "ExecuteTime": {
     "end_time": "2022-11-09T17:30:34.397438Z",
     "start_time": "2022-11-09T17:30:29.998334Z"
    }
   },
   "outputs": [
    {
     "name": "stdout",
     "output_type": "stream",
     "text": [
      "a1\n"
     ]
    }
   ],
   "source": [
    "input_data=input()"
   ]
  },
  {
   "cell_type": "code",
   "execution_count": 11,
   "metadata": {
    "ExecuteTime": {
     "end_time": "2022-11-09T17:30:35.686861Z",
     "start_time": "2022-11-09T17:30:35.671300Z"
    }
   },
   "outputs": [],
   "source": [
    "row=int(input_data[1])"
   ]
  },
  {
   "cell_type": "code",
   "execution_count": 12,
   "metadata": {
    "ExecuteTime": {
     "end_time": "2022-11-09T17:30:36.125343Z",
     "start_time": "2022-11-09T17:30:36.106573Z"
    }
   },
   "outputs": [],
   "source": [
    "col=int(ord(input_data[0]))-int(ord('a'))+1"
   ]
  },
  {
   "cell_type": "markdown",
   "metadata": {
    "ExecuteTime": {
     "end_time": "2022-11-08T15:10:44.021124Z",
     "start_time": "2022-11-08T15:10:44.016098Z"
    }
   },
   "source": [
    "- ord   \n",
    "하나의 문자를 인자로 받고 해당 문자에 해당하는 유니코드 정수를 반환합니다.  \n",
    "ord('a')를 넣으면 정수 97을 반환,ord('b')를 넣으면 정수 98을 반환합니다."
   ]
  },
  {
   "cell_type": "code",
   "execution_count": 13,
   "metadata": {
    "ExecuteTime": {
     "end_time": "2022-11-09T17:30:37.457062Z",
     "start_time": "2022-11-09T17:30:37.450240Z"
    }
   },
   "outputs": [],
   "source": [
    "steps=[(-2,-1),(-1,-2),(1,-2),(2,-1),(2,1),(1,2),(-1,2),(-2,1)]"
   ]
  },
  {
   "cell_type": "code",
   "execution_count": 14,
   "metadata": {
    "ExecuteTime": {
     "end_time": "2022-11-09T17:30:37.945628Z",
     "start_time": "2022-11-09T17:30:37.936349Z"
    }
   },
   "outputs": [],
   "source": [
    "result=0"
   ]
  },
  {
   "cell_type": "code",
   "execution_count": 15,
   "metadata": {
    "ExecuteTime": {
     "end_time": "2022-11-09T17:30:38.444721Z",
     "start_time": "2022-11-09T17:30:38.435430Z"
    }
   },
   "outputs": [
    {
     "name": "stdout",
     "output_type": "stream",
     "text": [
      "2\n"
     ]
    }
   ],
   "source": [
    "for step in steps:\n",
    "    next_row=row+step[0]\n",
    "    next_col=col+step[1]\n",
    "    if next_row>=1 and next_row<=8 and next_col>=1 and next_col<=8:\n",
    "        result +=1\n",
    "print(result)        "
   ]
  },
  {
   "cell_type": "code",
   "execution_count": 16,
   "metadata": {
    "ExecuteTime": {
     "end_time": "2022-11-09T17:30:43.813957Z",
     "start_time": "2022-11-09T17:30:38.933841Z"
    }
   },
   "outputs": [
    {
     "name": "stdout",
     "output_type": "stream",
     "text": [
      "b3\n"
     ]
    }
   ],
   "source": [
    "input_data=input()"
   ]
  },
  {
   "cell_type": "code",
   "execution_count": 17,
   "metadata": {
    "ExecuteTime": {
     "end_time": "2022-11-09T17:30:44.300666Z",
     "start_time": "2022-11-09T17:30:44.295537Z"
    }
   },
   "outputs": [],
   "source": [
    "row=int(input_data[1])"
   ]
  },
  {
   "cell_type": "code",
   "execution_count": 18,
   "metadata": {
    "ExecuteTime": {
     "end_time": "2022-11-09T17:30:44.697203Z",
     "start_time": "2022-11-09T17:30:44.690194Z"
    }
   },
   "outputs": [],
   "source": [
    "col=int(ord(input_data[0]))-int(ord('a'))+1"
   ]
  },
  {
   "cell_type": "code",
   "execution_count": 19,
   "metadata": {
    "ExecuteTime": {
     "end_time": "2022-11-09T17:30:45.108123Z",
     "start_time": "2022-11-09T17:30:45.100491Z"
    }
   },
   "outputs": [],
   "source": [
    "steps=[(-2,-1),(-1,-2),(1,-2),(2,-1),(2,1),(1,2),(-1,2),(-2,1)]"
   ]
  },
  {
   "cell_type": "code",
   "execution_count": 20,
   "metadata": {
    "ExecuteTime": {
     "end_time": "2022-11-09T17:30:45.807423Z",
     "start_time": "2022-11-09T17:30:45.793539Z"
    }
   },
   "outputs": [],
   "source": [
    "result=0"
   ]
  },
  {
   "cell_type": "code",
   "execution_count": 21,
   "metadata": {
    "ExecuteTime": {
     "end_time": "2022-11-09T17:30:46.246863Z",
     "start_time": "2022-11-09T17:30:46.233573Z"
    }
   },
   "outputs": [
    {
     "name": "stdout",
     "output_type": "stream",
     "text": [
      "6\n"
     ]
    }
   ],
   "source": [
    "for step in steps:\n",
    "    next_row=row+step[0]\n",
    "    next_col=col+step[1]\n",
    "    if next_row>=1 and next_row<=8 and next_col>=1 and next_col<=8:\n",
    "        result +=1\n",
    "print(result)        "
   ]
  },
  {
   "attachments": {
    "image.png": {
     "image/png": "[encoded data removed]"
    }
   },
   "cell_type": "markdown",
   "metadata": {},
   "source": [
    "![image.png](attachment:image.png)"
   ]
  },
  {
   "cell_type": "markdown",
   "metadata": {},
   "source": [
    "# 3. 게임 개발"
   ]
  },
  {
   "cell_type": "markdown",
   "metadata": {},
   "source": [
    "게임 캐릭터가 맵 안에서 움직이는 시스템을 개발 중  \n",
    "캐릭터가 있는 장소는 $1 \\times 1$크기의 정사각형으로 이루어진 $N \\times M$ 크기의 직사각형  \n",
    "각각의 칸은 바다,육지  \n",
    "캐릭터는 동서남북 중 한 곳을 바라봄"
   ]
  },
  {
   "cell_type": "markdown",
   "metadata": {},
   "source": [
    "맵의 각 칸은 (A,B)  \n",
    "A:북쪽으로부터 떨어진 개수, B:서쪽으로부터 떨어진 개수  \n",
    "캐릭터는 상하좌우 움직일 수 있고, 바다는 갈 수 없음"
   ]
  },
  {
   "cell_type": "markdown",
   "metadata": {},
   "source": [
    "1. 현재 위치에서 현재 방향을 기준으로 왼쪽 방향부터 차례대로 갈 곳을 정함  \n",
    "2. 캐릭터의 바로 왼쪽 방향에 가보지 않은 칸이 존재하면 왼쪽 방향으로 회전한 다음 한 칸 전진, 없으면 회전만 하고 1단계로 돌아감  \n",
    "3. 만약 네 방향 모두 가본 칸이거나 바다로 되어 있으면 바라보는 방향을 유지한 채로 뒤로 한 칸 가고 1단계로 돌아가고 바다라면 멈춤"
   ]
  },
  {
   "attachments": {
    "image.png": {
     "image/png": "[encoded data removed]"
    }
   },
   "cell_type": "markdown",
   "metadata": {},
   "source": [
    "![image.png](attachment:image.png)"
   ]
  },
  {
   "cell_type": "markdown",
   "metadata": {},
   "source": [
    "- 입력 조건  \n",
    "첫째 줄에 세로 크기 N, 가로 크기M을 공백으로 구분 (3이상 50이하)  \n",
    "둘째 줄에 캐릭터가 있는 좌표와 방향d를 공백으로 구분  \n",
    "d= 0:북,1:동,2:남,3:서  \n",
    "셋째 줄에 육지(0)인지 바다인지(1)에 대한 정보가 주어짐  \n",
    "N개의 줄에 북->남, 서->동 순으로 주어지고, 외곽은 바다  \n",
    "처음에는 무조건 육지"
   ]
  },
  {
   "cell_type": "markdown",
   "metadata": {},
   "source": [
    "- 출력 조건  \n",
    "첫째 줄에 이동을 마친 후 캐릭터가 방문한 수를 출력"
   ]
  },
  {
   "cell_type": "code",
   "execution_count": 9,
   "metadata": {
    "ExecuteTime": {
     "end_time": "2022-11-09T17:44:59.147825Z",
     "start_time": "2022-11-09T17:44:57.624887Z"
    }
   },
   "outputs": [
    {
     "name": "stdout",
     "output_type": "stream",
     "text": [
      "4 4\n"
     ]
    }
   ],
   "source": [
    "n, m = map(int, input().split())"
   ]
  },
  {
   "cell_type": "code",
   "execution_count": 10,
   "metadata": {
    "ExecuteTime": {
     "end_time": "2022-11-09T17:45:04.167857Z",
     "start_time": "2022-11-09T17:45:01.048776Z"
    }
   },
   "outputs": [
    {
     "name": "stdout",
     "output_type": "stream",
     "text": [
      "1 1 0\n"
     ]
    }
   ],
   "source": [
    "x, y, h = map(int, input().split())"
   ]
  },
  {
   "cell_type": "code",
   "execution_count": 11,
   "metadata": {
    "ExecuteTime": {
     "end_time": "2022-11-09T17:45:21.710798Z",
     "start_time": "2022-11-09T17:45:05.393923Z"
    }
   },
   "outputs": [
    {
     "name": "stdout",
     "output_type": "stream",
     "text": [
      "1 1 1 1\n",
      "1 0 0 1\n",
      "1 1 0 1\n",
      "1 1 1 1\n"
     ]
    }
   ],
   "source": [
    "map1 = []\n",
    "\n",
    "for i in range(n):\n",
    "    map1.append(list(map(int, input().split())))"
   ]
  },
  {
   "cell_type": "code",
   "execution_count": 12,
   "metadata": {
    "ExecuteTime": {
     "end_time": "2022-11-09T17:45:22.869131Z",
     "start_time": "2022-11-09T17:45:22.863833Z"
    }
   },
   "outputs": [],
   "source": [
    "isavail = [(-1, 0), (0,1), (1,0), (0,-1)]\n",
    "\n",
    "map1[x][y] = 1"
   ]
  },
  {
   "cell_type": "code",
   "execution_count": 13,
   "metadata": {
    "ExecuteTime": {
     "end_time": "2022-11-09T17:45:23.741862Z",
     "start_time": "2022-11-09T17:45:23.727121Z"
    }
   },
   "outputs": [
    {
     "name": "stdout",
     "output_type": "stream",
     "text": [
      "3\n"
     ]
    }
   ],
   "source": [
    "count = 0\n",
    "result = 1\n",
    "\n",
    "while True:\n",
    "    if h == 0 :\n",
    "        h = 3\n",
    "    else :\n",
    "        h -= 1\n",
    "\n",
    "\n",
    "    nx = x + isavail[h][0]\n",
    "    ny = y + isavail[h][1]\n",
    "\n",
    "    if nx < 0 or nx >= n or ny < 0 or ny >= m or map1[nx][ny] == 1:\n",
    "        count += 1\n",
    "        if count == 5:\n",
    "            break\n",
    "        continue\n",
    "\n",
    "    x = nx\n",
    "    y = ny\n",
    "    map1[x][y] = 1\n",
    "    result += 1\n",
    "    count = 0\n",
    "\n",
    "print(result)"
   ]
  }
 ],
 "metadata": {
  "kernelspec": {
   "display_name": "Python 3",
   "language": "python",
   "name": "python3"
  },
  "language_info": {
   "codemirror_mode": {
    "name": "ipython",
    "version": 3
   },
   "file_extension": ".py",
   "mimetype": "text/x-python",
   "name": "python",
   "nbconvert_exporter": "python",
   "pygments_lexer": "ipython3",
   "version": "3.8.5"
  },
  "toc": {
   "base_numbering": 1,
   "nav_menu": {},
   "number_sections": true,
   "sideBar": true,
   "skip_h1_title": false,
   "title_cell": "Table of Contents",
   "title_sidebar": "Contents",
   "toc_cell": false,
   "toc_position": {},
   "toc_section_display": true,
   "toc_window_display": false
  }
 },
 "nbformat": 4,
 "nbformat_minor": 4
}
