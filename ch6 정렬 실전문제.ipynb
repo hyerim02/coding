{
 "cells": [
  {
   "cell_type": "markdown",
   "metadata": {},
   "source": [
    "# 2. 위에서 아래로"
   ]
  },
  {
   "cell_type": "markdown",
   "metadata": {},
   "source": [
    "하나의 수열에는 다양한 수가 존재하고 크기 상관없이 나열  \n",
    "내림차순으로 정렬하는 프로그램을 만드시오"
   ]
  },
  {
   "cell_type": "markdown",
   "metadata": {},
   "source": [
    "- 입력 조건  \n",
    "첫째 줄에 수열이 속해 있는 수의 개수 N이 주어짐(1이상 500이하)  \n",
    "둘때 줄에 N+1번째 줄까지 N개의 수가 입력 1이상 100000이하의 자연수"
   ]
  },
  {
   "cell_type": "markdown",
   "metadata": {},
   "source": [
    "- 출력 조건  \n",
    "내림차순으로 정렬된 결과를 공백으로 구분, 동일한 수의 순서는 자유롭게 "
   ]
  },
  {
   "cell_type": "code",
   "execution_count": 1,
   "metadata": {
    "ExecuteTime": {
     "end_time": "2022-11-20T07:40:25.559948Z",
     "start_time": "2022-11-20T07:40:24.472030Z"
    }
   },
   "outputs": [
    {
     "name": "stdout",
     "output_type": "stream",
     "text": [
      "3\n"
     ]
    }
   ],
   "source": [
    "n=int(input())"
   ]
  },
  {
   "cell_type": "code",
   "execution_count": 2,
   "metadata": {
    "ExecuteTime": {
     "end_time": "2022-11-20T07:41:21.020838Z",
     "start_time": "2022-11-20T07:41:13.136604Z"
    }
   },
   "outputs": [
    {
     "name": "stdout",
     "output_type": "stream",
     "text": [
      "15\n",
      "27\n",
      "12\n"
     ]
    }
   ],
   "source": [
    "array=[]\n",
    "for i in range(n):\n",
    "    array.append(int(input()))"
   ]
  },
  {
   "cell_type": "code",
   "execution_count": 3,
   "metadata": {
    "ExecuteTime": {
     "end_time": "2022-11-20T07:42:01.518403Z",
     "start_time": "2022-11-20T07:42:01.498782Z"
    }
   },
   "outputs": [
    {
     "name": "stdout",
     "output_type": "stream",
     "text": [
      "27 15 12 "
     ]
    }
   ],
   "source": [
    "array=sorted(array,reverse=True)\n",
    "for i in array:\n",
    "    print(i , end=' ')"
   ]
  },
  {
   "cell_type": "markdown",
   "metadata": {},
   "source": [
    "# 3. 성적이 낮은 순서대로 학생 출력하기"
   ]
  },
  {
   "cell_type": "markdown",
   "metadata": {},
   "source": [
    "N명의 학생 정보(이름, 성적)가 있을 때 성적이 낮은 순서대로 학생의 이름을 출력하는 프로그램을 만드시오"
   ]
  },
  {
   "cell_type": "markdown",
   "metadata": {},
   "source": [
    "- 입력 조건  \n",
    "첫 번째 줄에 학생의 수 N이 입력(1이상 100000이하)  \n",
    "두 번째 줄부터 N+1번째 줄에는 학생의 이름을 나타내는 문자열 A와 학생의 성적을 나타내는 정수 B가 공백으로 구분되어 입력   \n",
    "A,B는 100이하"
   ]
  },
  {
   "cell_type": "markdown",
   "metadata": {},
   "source": [
    "- 출력 조건  \n",
    "모든 학생의 이름을 성적이 낮은 순서대로 출력하고 동일한 성적은 자유롭게 "
   ]
  },
  {
   "cell_type": "code",
   "execution_count": 4,
   "metadata": {
    "ExecuteTime": {
     "end_time": "2022-11-20T07:52:16.008825Z",
     "start_time": "2022-11-20T07:52:14.738809Z"
    }
   },
   "outputs": [
    {
     "name": "stdout",
     "output_type": "stream",
     "text": [
      "2\n"
     ]
    }
   ],
   "source": [
    "n=int(input())"
   ]
  },
  {
   "cell_type": "code",
   "execution_count": 5,
   "metadata": {
    "ExecuteTime": {
     "end_time": "2022-11-20T07:54:30.161004Z",
     "start_time": "2022-11-20T07:54:19.609850Z"
    }
   },
   "outputs": [
    {
     "name": "stdout",
     "output_type": "stream",
     "text": [
      "홍길동 95\n",
      "이순신 77\n"
     ]
    }
   ],
   "source": [
    "array=[]\n",
    "for i in range(n):\n",
    "    input_data=input().split()\n",
    "    array.append((input_data[0],int(input_data[1])))"
   ]
  },
  {
   "cell_type": "code",
   "execution_count": 6,
   "metadata": {
    "ExecuteTime": {
     "end_time": "2022-11-20T07:56:09.147146Z",
     "start_time": "2022-11-20T07:56:09.140086Z"
    }
   },
   "outputs": [
    {
     "name": "stdout",
     "output_type": "stream",
     "text": [
      "이순신 홍길동 "
     ]
    }
   ],
   "source": [
    "array=sorted(array,key=lambda student: student[1])\n",
    "for student in array:\n",
    "    print(student[0], end=' ')"
   ]
  },
  {
   "cell_type": "markdown",
   "metadata": {},
   "source": [
    "# 4. 두 배열의 원소 교체"
   ]
  },
  {
   "cell_type": "markdown",
   "metadata": {},
   "source": [
    "두 개의 배열 A와 B가 있음  \n",
    "두 배열은 N개의 원소로 구성되어 있고, 모두 자연수  \n",
    "k번 바꿔치기 연산 수행"
   ]
  },
  {
   "cell_type": "markdown",
   "metadata": {},
   "source": [
    "바꿔치기 연산은 배열 A에 있는 원소 하나와 배열 B에 있는 원소 하나를 골라서 두 원소를 서로 바꾸는 것"
   ]
  },
  {
   "cell_type": "markdown",
   "metadata": {},
   "source": [
    "배열 A의 원소 합이 최대가 되도록 하는 것이 목표"
   ]
  },
  {
   "cell_type": "markdown",
   "metadata": {},
   "source": [
    "N,K,그리고 배열 A,B의 정보가 주어졌을 때 최대 K번의 바꿔치기 연산을 수행하여 만들 수 있는 배열 A의 모든 원소 합의 최댓값을 출력하는 프로그램을 작성하시오"
   ]
  },
  {
   "cell_type": "markdown",
   "metadata": {},
   "source": [
    "- 입력 조건  \n",
    "첫 번째 줄에 N(1이상 100000이하).K(0이상 N이하)가 공백으로 구분되어 입력  \n",
    "두 번째 줄에 배열 A의 원소들이 공백으로 구분되어 입력  \n",
    "세 번째 줄에 배열 B의 원소들이 공백으로 구분되어 입력"
   ]
  },
  {
   "cell_type": "markdown",
   "metadata": {},
   "source": [
    "- 출력 조건  \n",
    "k번 바꿔치기 연산을 수행하여 만들 수 있는 배열 A의 모든 원소의 합의 최댓값을 출력"
   ]
  },
  {
   "cell_type": "code",
   "execution_count": 8,
   "metadata": {
    "ExecuteTime": {
     "end_time": "2022-11-20T08:57:28.050702Z",
     "start_time": "2022-11-20T08:57:23.551785Z"
    }
   },
   "outputs": [
    {
     "name": "stdout",
     "output_type": "stream",
     "text": [
      "5 3\n"
     ]
    }
   ],
   "source": [
    "n,k=map(int,input().split())"
   ]
  },
  {
   "cell_type": "code",
   "execution_count": 9,
   "metadata": {
    "ExecuteTime": {
     "end_time": "2022-11-20T08:57:59.036596Z",
     "start_time": "2022-11-20T08:57:53.696360Z"
    }
   },
   "outputs": [
    {
     "name": "stdout",
     "output_type": "stream",
     "text": [
      " 1 2 5 4 3\n"
     ]
    }
   ],
   "source": [
    "a=list(map(int,input().split()))"
   ]
  },
  {
   "cell_type": "code",
   "execution_count": 10,
   "metadata": {
    "ExecuteTime": {
     "end_time": "2022-11-20T08:58:07.806782Z",
     "start_time": "2022-11-20T08:58:01.530652Z"
    }
   },
   "outputs": [
    {
     "name": "stdout",
     "output_type": "stream",
     "text": [
      "5 5 6 6 5\n"
     ]
    }
   ],
   "source": [
    "b=list(map(int,input().split()))"
   ]
  },
  {
   "cell_type": "code",
   "execution_count": 11,
   "metadata": {
    "ExecuteTime": {
     "end_time": "2022-11-20T08:58:38.725922Z",
     "start_time": "2022-11-20T08:58:38.718946Z"
    }
   },
   "outputs": [],
   "source": [
    "a.sort()\n",
    "b.sort(reverse=True)"
   ]
  },
  {
   "cell_type": "code",
   "execution_count": 12,
   "metadata": {
    "ExecuteTime": {
     "end_time": "2022-11-20T08:59:40.121799Z",
     "start_time": "2022-11-20T08:59:40.098226Z"
    }
   },
   "outputs": [
    {
     "name": "stdout",
     "output_type": "stream",
     "text": [
      "26\n"
     ]
    }
   ],
   "source": [
    "for i in range(k):\n",
    "    if a[i]<b[i]:\n",
    "        a[i],b[i]=b[i],a[i]\n",
    "    else:\n",
    "        break\n",
    "print(sum(a))"
   ]
  }
 ],
 "metadata": {
  "kernelspec": {
   "display_name": "Python 3",
   "language": "python",
   "name": "python3"
  },
  "language_info": {
   "codemirror_mode": {
    "name": "ipython",
    "version": 3
   },
   "file_extension": ".py",
   "mimetype": "text/x-python",
   "name": "python",
   "nbconvert_exporter": "python",
   "pygments_lexer": "ipython3",
   "version": "3.8.5"
  },
  "toc": {
   "base_numbering": 1,
   "nav_menu": {},
   "number_sections": true,
   "sideBar": true,
   "skip_h1_title": false,
   "title_cell": "Table of Contents",
   "title_sidebar": "Contents",
   "toc_cell": false,
   "toc_position": {},
   "toc_section_display": true,
   "toc_window_display": false
  }
 },
 "nbformat": 4,
 "nbformat_minor": 4
}
