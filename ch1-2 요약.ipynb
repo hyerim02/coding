{
 "cells": [
  {
   "cell_type": "markdown",
   "metadata": {},
   "source": [
    "온라인 저지: 프로그래밍 대회나 코딩 테스트에 나올 법한 문제를 시험해보는 온라인 시스템  \n",
    "- 백준  \n",
    "- 코드업  \n",
    "- 프로그래머스  \n",
    "- SW Expert Academy"
   ]
  },
  {
   "cell_type": "markdown",
   "metadata": {},
   "source": [
    "## 어떤 언어가 코딩 테스트에 유리한가?"
   ]
  },
  {
   "cell_type": "markdown",
   "metadata": {},
   "source": [
    "파이썬,C++"
   ]
  },
  {
   "cell_type": "markdown",
   "metadata": {},
   "source": [
    "## 복잡도"
   ]
  },
  {
   "cell_type": "markdown",
   "metadata": {},
   "source": [
    "알고리즘의 성능을 나타내는 척도"
   ]
  },
  {
   "cell_type": "markdown",
   "metadata": {},
   "source": [
    "- 시간 복잡도: 알고리즘을 위해 필요한 연산의 횟수  \n",
    "- 공간 복잡도: 알고리즘을 위해 필요한 메모리 양"
   ]
  },
  {
   "cell_type": "markdown",
   "metadata": {},
   "source": [
    "수행 시간 측정 코드"
   ]
  },
  {
   "cell_type": "code",
   "execution_count": 2,
   "metadata": {
    "ExecuteTime": {
     "end_time": "2022-10-25T15:14:43.664218Z",
     "start_time": "2022-10-25T15:14:43.650254Z"
    }
   },
   "outputs": [
    {
     "name": "stdout",
     "output_type": "stream",
     "text": [
      "time: 0.0\n"
     ]
    }
   ],
   "source": [
    "import time\n",
    "start_time=time.time()\n",
    "end_time=time.time()\n",
    "print('time:',end_time-start_time)"
   ]
  },
  {
   "cell_type": "markdown",
   "metadata": {},
   "source": [
    "선택 정렬과 기본 정렬 라이브러리 수행 시간 비교"
   ]
  },
  {
   "cell_type": "code",
   "execution_count": 7,
   "metadata": {
    "ExecuteTime": {
     "end_time": "2022-10-25T15:24:35.895073Z",
     "start_time": "2022-10-25T15:24:23.037450Z"
    }
   },
   "outputs": [
    {
     "name": "stdout",
     "output_type": "stream",
     "text": [
      "선택 정렬 time: 12.786810398101807\n"
     ]
    }
   ],
   "source": [
    "from random import randint\n",
    "import time\n",
    "\n",
    "array=[]\n",
    "for _ in range(10000):\n",
    "    array.append(randint(1,100))\n",
    "    \n",
    "start_time=time.time()   \n",
    "\n",
    "for i in range(len(array)):\n",
    "    min_index=i\n",
    "    for j in range(i+1,len(array)):\n",
    "        if array[min_index]>array[j]:\n",
    "            min_index=j\n",
    "    array[i],array[min_index]=array[min_index],array[i]       \n",
    "\n",
    "end_time=time.time()\n",
    "print('선택 정렬 time:',end_time-start_time)    "
   ]
  },
  {
   "cell_type": "code",
   "execution_count": 8,
   "metadata": {
    "ExecuteTime": {
     "end_time": "2022-10-25T15:24:35.952920Z",
     "start_time": "2022-10-25T15:24:35.907043Z"
    }
   },
   "outputs": [
    {
     "name": "stdout",
     "output_type": "stream",
     "text": [
      "기본 정렬 time: 0.002234935760498047\n"
     ]
    }
   ],
   "source": [
    "array=[]\n",
    "for _ in range(10000):\n",
    "    array.append(randint(1,100))\n",
    "    \n",
    "start_time=time.time()   \n",
    "\n",
    "array.sort()\n",
    "\n",
    "end_time=time.time()\n",
    "print('기본 정렬 time:',end_time-start_time)   "
   ]
  },
  {
   "cell_type": "markdown",
   "metadata": {},
   "source": [
    "## 문제 유형"
   ]
  },
  {
   "cell_type": "markdown",
   "metadata": {},
   "source": [
    "- 구현  \n",
    "- DFS/BFS  \n",
    "- 그리디  \n",
    "- 정렬  \n",
    "- 다이나믹 프로그래밍  \n",
    "- 최단 경로  \n",
    "- 이진 탐색  \n",
    "- 그래프"
   ]
  },
  {
   "cell_type": "markdown",
   "metadata": {},
   "source": [
    "## 문제 풀이 사이트  \n",
    "- 코드 시그널    \n",
    "- 코드포스  \n",
    "- 정올"
   ]
  }
 ],
 "metadata": {
  "kernelspec": {
   "display_name": "Python 3",
   "language": "python",
   "name": "python3"
  },
  "language_info": {
   "codemirror_mode": {
    "name": "ipython",
    "version": 3
   },
   "file_extension": ".py",
   "mimetype": "text/x-python",
   "name": "python",
   "nbconvert_exporter": "python",
   "pygments_lexer": "ipython3",
   "version": "3.8.5"
  },
  "toc": {
   "base_numbering": 1,
   "nav_menu": {},
   "number_sections": true,
   "sideBar": true,
   "skip_h1_title": false,
   "title_cell": "Table of Contents",
   "title_sidebar": "Contents",
   "toc_cell": false,
   "toc_position": {},
   "toc_section_display": true,
   "toc_window_display": false
  }
 },
 "nbformat": 4,
 "nbformat_minor": 4
}
